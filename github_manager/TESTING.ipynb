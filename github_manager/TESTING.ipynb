{
 "cells": [
  {
   "cell_type": "code",
   "execution_count": 40,
   "metadata": {},
   "outputs": [],
   "source": [
    "import dataset\n",
    "import json\n",
    "from dataclasses import dataclass, asdict"
   ]
  },
  {
   "cell_type": "code",
   "execution_count": 41,
   "metadata": {},
   "outputs": [],
   "source": [
    "\n",
    "db = dataset.connect('sqlite:///:memory:')\n",
    "\n",
    "table = db['repos']\n",
    "\n",
    "keys = ['name', 'html_url', 'description', 'fork', 'url', 'created_at', 'updated_at', 'language', 'fork']\n",
    "\n"
   ]
  },
  {
   "cell_type": "code",
   "execution_count": 42,
   "metadata": {},
   "outputs": [],
   "source": [
    "@dataclass\n",
    "class Repo:\n",
    "    id: int\n",
    "    name: str\n",
    "    url: str\n",
    "    html_url: str\n",
    "    description: str\n",
    "    created_at: str\n",
    "    updated_at: str\n",
    "    language: str\n",
    "    fork: bool"
   ]
  },
  {
   "cell_type": "code",
   "execution_count": 45,
   "metadata": {},
   "outputs": [],
   "source": [
    "def load_table():\n",
    "    with open('repos.json', 'r') as j:\n",
    "        repos = json.load(j)\n",
    "        for repo in repos:\n",
    "            d = {key: repo.get(key) for key in repo if key in keys}\n",
    "            table.insert(d)\n",
    "            \n",
    "load_table()\n",
    "\n",
    "def repo_printer(repo: Repo):\n",
    "    print(f'******************** {repo.name} ********************')\n",
    "    for p in asdict(repo).items():\n",
    "        print(p)\n"
   ]
  },
  {
   "cell_type": "code",
   "execution_count": 46,
   "metadata": {},
   "outputs": [
    {
     "name": "stdout",
     "output_type": "stream",
     "text": [
      "******************** pipenv ********************\n",
      "('id', 27)\n",
      "('name', 'pipenv')\n",
      "('url', 'https://api.github.com/repos/datapointchris/pipenv')\n",
      "('html_url', 'https://github.com/datapointchris/pipenv')\n",
      "('description', ' Python Development Workflow for Humans.')\n",
      "('created_at', '2020-05-17T03:43:44Z')\n",
      "('updated_at', '2020-05-17T03:43:46Z')\n",
      "('language', None)\n",
      "('fork', True)\n"
     ]
    }
   ],
   "source": [
    "t = Repo(**table.find_one(name='pipenv'))\n",
    "repo_printer(t)"
   ]
  },
  {
   "cell_type": "code",
   "execution_count": null,
   "metadata": {},
   "outputs": [],
   "source": []
  }
 ],
 "metadata": {
  "kernelspec": {
   "display_name": ".venv",
   "language": "python",
   "name": "python3"
  },
  "language_info": {
   "codemirror_mode": {
    "name": "ipython",
    "version": 3
   },
   "file_extension": ".py",
   "mimetype": "text/x-python",
   "name": "python",
   "nbconvert_exporter": "python",
   "pygments_lexer": "ipython3",
   "version": "3.11.2"
  },
  "orig_nbformat": 4,
  "vscode": {
   "interpreter": {
    "hash": "befc5ec16b2ac03665e534c559340f1387b50478852ab4cb8a214c1ce33bc5e7"
   }
  }
 },
 "nbformat": 4,
 "nbformat_minor": 2
}
